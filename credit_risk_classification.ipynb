{
 "cells": [
  {
   "cell_type": "code",
   "execution_count": 1,
   "metadata": {
    "ExecuteTime": {
     "end_time": "2024-04-03T13:55:01.865632Z",
     "start_time": "2024-04-03T13:55:01.076500Z"
    }
   },
   "outputs": [],
   "source": [
    "# Import the modules\n",
    "import numpy as np\n",
    "import pandas as pd\n",
    "from pathlib import Path\n",
    "from sklearn.metrics import confusion_matrix, classification_report"
   ]
  },
  {
   "attachments": {},
   "cell_type": "markdown",
   "metadata": {},
   "source": [
    "---"
   ]
  },
  {
   "attachments": {},
   "cell_type": "markdown",
   "metadata": {},
   "source": [
    "## Split the Data into Training and Testing Sets"
   ]
  },
  {
   "attachments": {},
   "cell_type": "markdown",
   "metadata": {},
   "source": [
    "### Step 1: Read the `lending_data.csv` data from the `Resources` folder into a Pandas DataFrame."
   ]
  },
  {
   "cell_type": "code",
   "execution_count": 2,
   "metadata": {
    "ExecuteTime": {
     "end_time": "2024-04-03T13:55:01.898974Z",
     "start_time": "2024-04-03T13:55:01.866401Z"
    }
   },
   "outputs": [
    {
     "data": {
      "text/plain": "       loan_size  interest_rate  borrower_income  debt_to_income  \\\n13598    10100.0          7.416            50400        0.404762   \n50833     9700.0          7.265            49000        0.387755   \n40945     9900.0          7.328            49600        0.395161   \n71667     9700.0          7.235            48700        0.383984   \n5317     11500.0          8.034            56200        0.466192   \n\n       num_of_accounts  derogatory_marks  total_debt  loan_status  \n13598                4                 1       20400            0  \n50833                4                 0       19000            0  \n40945                4                 0       19600            0  \n71667                4                 0       18700            0  \n5317                 5                 1       26200            0  ",
      "text/html": "<div>\n<style scoped>\n    .dataframe tbody tr th:only-of-type {\n        vertical-align: middle;\n    }\n\n    .dataframe tbody tr th {\n        vertical-align: top;\n    }\n\n    .dataframe thead th {\n        text-align: right;\n    }\n</style>\n<table border=\"1\" class=\"dataframe\">\n  <thead>\n    <tr style=\"text-align: right;\">\n      <th></th>\n      <th>loan_size</th>\n      <th>interest_rate</th>\n      <th>borrower_income</th>\n      <th>debt_to_income</th>\n      <th>num_of_accounts</th>\n      <th>derogatory_marks</th>\n      <th>total_debt</th>\n      <th>loan_status</th>\n    </tr>\n  </thead>\n  <tbody>\n    <tr>\n      <th>13598</th>\n      <td>10100.0</td>\n      <td>7.416</td>\n      <td>50400</td>\n      <td>0.404762</td>\n      <td>4</td>\n      <td>1</td>\n      <td>20400</td>\n      <td>0</td>\n    </tr>\n    <tr>\n      <th>50833</th>\n      <td>9700.0</td>\n      <td>7.265</td>\n      <td>49000</td>\n      <td>0.387755</td>\n      <td>4</td>\n      <td>0</td>\n      <td>19000</td>\n      <td>0</td>\n    </tr>\n    <tr>\n      <th>40945</th>\n      <td>9900.0</td>\n      <td>7.328</td>\n      <td>49600</td>\n      <td>0.395161</td>\n      <td>4</td>\n      <td>0</td>\n      <td>19600</td>\n      <td>0</td>\n    </tr>\n    <tr>\n      <th>71667</th>\n      <td>9700.0</td>\n      <td>7.235</td>\n      <td>48700</td>\n      <td>0.383984</td>\n      <td>4</td>\n      <td>0</td>\n      <td>18700</td>\n      <td>0</td>\n    </tr>\n    <tr>\n      <th>5317</th>\n      <td>11500.0</td>\n      <td>8.034</td>\n      <td>56200</td>\n      <td>0.466192</td>\n      <td>5</td>\n      <td>1</td>\n      <td>26200</td>\n      <td>0</td>\n    </tr>\n  </tbody>\n</table>\n</div>"
     },
     "execution_count": 2,
     "metadata": {},
     "output_type": "execute_result"
    }
   ],
   "source": [
    "# Read the CSV file from the Resources folder into a Pandas DataFrame\n",
    "risk_df = pd.read_csv('Resources/lending_data.csv')\n",
    "\n",
    "# Review the DataFrame\n",
    "# risk_df.head()\n",
    "risk_df.sample(5)"
   ]
  },
  {
   "attachments": {},
   "cell_type": "markdown",
   "metadata": {},
   "source": [
    "### Step 2: Create the labels set (`y`)  from the “loan_status” column, and then create the features (`X`) DataFrame from the remaining columns."
   ]
  },
  {
   "cell_type": "code",
   "execution_count": 3,
   "metadata": {
    "ExecuteTime": {
     "end_time": "2024-04-03T13:55:01.902120Z",
     "start_time": "2024-04-03T13:55:01.899614Z"
    }
   },
   "outputs": [],
   "source": [
    "# Separate the data into labels and features\n",
    "\n",
    "# Separate the y variable, the labels\n",
    "y = risk_df['loan_status']\n",
    "\n",
    "# Separate the X variable, the features\n",
    "X = risk_df[[col for col in risk_df.columns if col != 'loan_status']]"
   ]
  },
  {
   "cell_type": "code",
   "execution_count": 4,
   "metadata": {
    "collapsed": false,
    "ExecuteTime": {
     "end_time": "2024-04-03T13:55:01.906441Z",
     "start_time": "2024-04-03T13:55:01.903333Z"
    }
   },
   "outputs": [
    {
     "data": {
      "text/plain": "64252    0\n31842    0\n74431    0\n39096    0\n15212    0\n28381    0\n35883    0\n7425     0\n5227     0\n28598    0\nName: loan_status, dtype: int64"
     },
     "execution_count": 4,
     "metadata": {},
     "output_type": "execute_result"
    }
   ],
   "source": [
    "# Review the y variable Series\n",
    "#y.head()\n",
    "y.sample(10)"
   ]
  },
  {
   "cell_type": "code",
   "outputs": [
    {
     "data": {
      "text/plain": "       loan_size  interest_rate  borrower_income  debt_to_income  \\\n5594     11500.0          8.024            56100        0.465241   \n56973     9500.0          7.177            48100        0.376299   \n11626     8500.0          6.719            43800        0.315068   \n43629     8900.0          6.900            45500        0.340659   \n40122     9000.0          6.963            46100        0.349241   \n6937      8500.0          6.756            44200        0.321267   \n13759     9300.0          7.098            47400        0.367089   \n71507    10300.0          7.514            51300        0.415205   \n71006    10300.0          7.522            51400        0.416342   \n16891     8300.0          6.645            43100        0.303944   \n\n       num_of_accounts  derogatory_marks  total_debt  \n5594                 5                 1       26100  \n56973                4                 0       18100  \n11626                3                 0       13800  \n43629                3                 0       15500  \n40122                3                 0       16100  \n6937                 3                 0       14200  \n13759                3                 0       17400  \n71507                4                 1       21300  \n71006                4                 1       21400  \n16891                2                 0       13100  ",
      "text/html": "<div>\n<style scoped>\n    .dataframe tbody tr th:only-of-type {\n        vertical-align: middle;\n    }\n\n    .dataframe tbody tr th {\n        vertical-align: top;\n    }\n\n    .dataframe thead th {\n        text-align: right;\n    }\n</style>\n<table border=\"1\" class=\"dataframe\">\n  <thead>\n    <tr style=\"text-align: right;\">\n      <th></th>\n      <th>loan_size</th>\n      <th>interest_rate</th>\n      <th>borrower_income</th>\n      <th>debt_to_income</th>\n      <th>num_of_accounts</th>\n      <th>derogatory_marks</th>\n      <th>total_debt</th>\n    </tr>\n  </thead>\n  <tbody>\n    <tr>\n      <th>5594</th>\n      <td>11500.0</td>\n      <td>8.024</td>\n      <td>56100</td>\n      <td>0.465241</td>\n      <td>5</td>\n      <td>1</td>\n      <td>26100</td>\n    </tr>\n    <tr>\n      <th>56973</th>\n      <td>9500.0</td>\n      <td>7.177</td>\n      <td>48100</td>\n      <td>0.376299</td>\n      <td>4</td>\n      <td>0</td>\n      <td>18100</td>\n    </tr>\n    <tr>\n      <th>11626</th>\n      <td>8500.0</td>\n      <td>6.719</td>\n      <td>43800</td>\n      <td>0.315068</td>\n      <td>3</td>\n      <td>0</td>\n      <td>13800</td>\n    </tr>\n    <tr>\n      <th>43629</th>\n      <td>8900.0</td>\n      <td>6.900</td>\n      <td>45500</td>\n      <td>0.340659</td>\n      <td>3</td>\n      <td>0</td>\n      <td>15500</td>\n    </tr>\n    <tr>\n      <th>40122</th>\n      <td>9000.0</td>\n      <td>6.963</td>\n      <td>46100</td>\n      <td>0.349241</td>\n      <td>3</td>\n      <td>0</td>\n      <td>16100</td>\n    </tr>\n    <tr>\n      <th>6937</th>\n      <td>8500.0</td>\n      <td>6.756</td>\n      <td>44200</td>\n      <td>0.321267</td>\n      <td>3</td>\n      <td>0</td>\n      <td>14200</td>\n    </tr>\n    <tr>\n      <th>13759</th>\n      <td>9300.0</td>\n      <td>7.098</td>\n      <td>47400</td>\n      <td>0.367089</td>\n      <td>3</td>\n      <td>0</td>\n      <td>17400</td>\n    </tr>\n    <tr>\n      <th>71507</th>\n      <td>10300.0</td>\n      <td>7.514</td>\n      <td>51300</td>\n      <td>0.415205</td>\n      <td>4</td>\n      <td>1</td>\n      <td>21300</td>\n    </tr>\n    <tr>\n      <th>71006</th>\n      <td>10300.0</td>\n      <td>7.522</td>\n      <td>51400</td>\n      <td>0.416342</td>\n      <td>4</td>\n      <td>1</td>\n      <td>21400</td>\n    </tr>\n    <tr>\n      <th>16891</th>\n      <td>8300.0</td>\n      <td>6.645</td>\n      <td>43100</td>\n      <td>0.303944</td>\n      <td>2</td>\n      <td>0</td>\n      <td>13100</td>\n    </tr>\n  </tbody>\n</table>\n</div>"
     },
     "execution_count": 5,
     "metadata": {},
     "output_type": "execute_result"
    }
   ],
   "source": [
    "# Review the X variable DataFrame\n",
    "#X.head()\n",
    "X.sample(10)"
   ],
   "metadata": {
    "ExecuteTime": {
     "end_time": "2024-04-03T13:55:01.911730Z",
     "start_time": "2024-04-03T13:55:01.907109Z"
    }
   },
   "execution_count": 5
  },
  {
   "cell_type": "code",
   "execution_count": 6,
   "metadata": {
    "ExecuteTime": {
     "end_time": "2024-04-03T13:55:01.914795Z",
     "start_time": "2024-04-03T13:55:01.912213Z"
    }
   },
   "outputs": [
    {
     "data": {
      "text/plain": "loan_status\n0    75036\n1     2500\nName: count, dtype: int64"
     },
     "execution_count": 6,
     "metadata": {},
     "output_type": "execute_result"
    }
   ],
   "source": [
    "y.value_counts()"
   ]
  },
  {
   "cell_type": "code",
   "outputs": [
    {
     "data": {
      "text/plain": "loan_size  interest_rate  borrower_income  debt_to_income  num_of_accounts  derogatory_marks  total_debt\n9600.0     7.211          48500            0.381443        4                0                 18500         78\n           7.207          48400            0.380165        4                0                 18400         76\n9200.0     7.018          46600            0.356223        3                0                 16600         75\n9600.0     7.204          48400            0.380165        4                0                 18400         75\n9400.0     7.102          47400            0.367089        3                0                 17400         73\n                                                                                                            ..\n16700.0    10.238         76900            0.609883        10               2                 46900          1\n           10.236         76900            0.609883        10               2                 46900          1\n           10.228         76800            0.609375        10               2                 46800          1\n           10.225         76800            0.609375        10               2                 46800          1\n23800.0    13.235         105200           0.714829        16               3                 75200          1\nName: count, Length: 5003, dtype: int64"
     },
     "execution_count": 7,
     "metadata": {},
     "output_type": "execute_result"
    }
   ],
   "source": [
    "X.value_counts()"
   ],
   "metadata": {
    "collapsed": false,
    "ExecuteTime": {
     "end_time": "2024-04-03T13:55:01.925200Z",
     "start_time": "2024-04-03T13:55:01.915318Z"
    }
   },
   "execution_count": 7
  },
  {
   "attachments": {},
   "cell_type": "markdown",
   "metadata": {},
   "source": [
    "### Step 3: Split the data into training and testing datasets by using `train_test_split`."
   ]
  },
  {
   "cell_type": "code",
   "execution_count": 8,
   "metadata": {
    "ExecuteTime": {
     "end_time": "2024-04-03T13:55:01.937375Z",
     "start_time": "2024-04-03T13:55:01.925819Z"
    }
   },
   "outputs": [],
   "source": [
    "# Import the train_test_learn module\n",
    "from sklearn.model_selection import train_test_split\n",
    "\n",
    "# Split the data using train_test_split\n",
    "# Assign a random_state of 1 to the function\n",
    "X_train, X_test, y_train, y_test = train_test_split(X, y , random_state=1)"
   ]
  },
  {
   "cell_type": "code",
   "outputs": [
    {
     "name": "stdout",
     "output_type": "stream",
     "text": [
      "Training Sets:\n",
      "X_train shape: (58152, 7) y_train shape: (58152,)\n",
      "Test Shapes:\n",
      "X_test shape: (19384, 7) y_test shape: (19384,)\n"
     ]
    }
   ],
   "source": [
    "print(\"Training Sets:\")\n",
    "print(\"X_train shape:\", X_train.shape, \"y_train shape:\", y_train.shape)\n",
    "\n",
    "print(\"Test Shapes:\")\n",
    "print(\"X_test shape:\", X_test.shape, \"y_test shape:\", y_test.shape)"
   ],
   "metadata": {
    "collapsed": false,
    "ExecuteTime": {
     "end_time": "2024-04-03T13:55:01.939791Z",
     "start_time": "2024-04-03T13:55:01.937927Z"
    }
   },
   "execution_count": 9
  },
  {
   "attachments": {},
   "cell_type": "markdown",
   "metadata": {},
   "source": [
    "## Create a Logistic Regression Model with the Original Data"
   ]
  },
  {
   "attachments": {},
   "cell_type": "markdown",
   "metadata": {},
   "source": [
    "###  Step 1: Fit a logistic regression model by using the training data (`X_train` and `y_train`)."
   ]
  },
  {
   "cell_type": "code",
   "execution_count": 10,
   "metadata": {
    "ExecuteTime": {
     "end_time": "2024-04-03T13:55:02.329606Z",
     "start_time": "2024-04-03T13:55:01.941439Z"
    }
   },
   "outputs": [
    {
     "data": {
      "text/plain": "LogisticRegression(random_state=1)",
      "text/html": "<style>#sk-container-id-1 {color: black;}#sk-container-id-1 pre{padding: 0;}#sk-container-id-1 div.sk-toggleable {background-color: white;}#sk-container-id-1 label.sk-toggleable__label {cursor: pointer;display: block;width: 100%;margin-bottom: 0;padding: 0.3em;box-sizing: border-box;text-align: center;}#sk-container-id-1 label.sk-toggleable__label-arrow:before {content: \"▸\";float: left;margin-right: 0.25em;color: #696969;}#sk-container-id-1 label.sk-toggleable__label-arrow:hover:before {color: black;}#sk-container-id-1 div.sk-estimator:hover label.sk-toggleable__label-arrow:before {color: black;}#sk-container-id-1 div.sk-toggleable__content {max-height: 0;max-width: 0;overflow: hidden;text-align: left;background-color: #f0f8ff;}#sk-container-id-1 div.sk-toggleable__content pre {margin: 0.2em;color: black;border-radius: 0.25em;background-color: #f0f8ff;}#sk-container-id-1 input.sk-toggleable__control:checked~div.sk-toggleable__content {max-height: 200px;max-width: 100%;overflow: auto;}#sk-container-id-1 input.sk-toggleable__control:checked~label.sk-toggleable__label-arrow:before {content: \"▾\";}#sk-container-id-1 div.sk-estimator input.sk-toggleable__control:checked~label.sk-toggleable__label {background-color: #d4ebff;}#sk-container-id-1 div.sk-label input.sk-toggleable__control:checked~label.sk-toggleable__label {background-color: #d4ebff;}#sk-container-id-1 input.sk-hidden--visually {border: 0;clip: rect(1px 1px 1px 1px);clip: rect(1px, 1px, 1px, 1px);height: 1px;margin: -1px;overflow: hidden;padding: 0;position: absolute;width: 1px;}#sk-container-id-1 div.sk-estimator {font-family: monospace;background-color: #f0f8ff;border: 1px dotted black;border-radius: 0.25em;box-sizing: border-box;margin-bottom: 0.5em;}#sk-container-id-1 div.sk-estimator:hover {background-color: #d4ebff;}#sk-container-id-1 div.sk-parallel-item::after {content: \"\";width: 100%;border-bottom: 1px solid gray;flex-grow: 1;}#sk-container-id-1 div.sk-label:hover label.sk-toggleable__label {background-color: #d4ebff;}#sk-container-id-1 div.sk-serial::before {content: \"\";position: absolute;border-left: 1px solid gray;box-sizing: border-box;top: 0;bottom: 0;left: 50%;z-index: 0;}#sk-container-id-1 div.sk-serial {display: flex;flex-direction: column;align-items: center;background-color: white;padding-right: 0.2em;padding-left: 0.2em;position: relative;}#sk-container-id-1 div.sk-item {position: relative;z-index: 1;}#sk-container-id-1 div.sk-parallel {display: flex;align-items: stretch;justify-content: center;background-color: white;position: relative;}#sk-container-id-1 div.sk-item::before, #sk-container-id-1 div.sk-parallel-item::before {content: \"\";position: absolute;border-left: 1px solid gray;box-sizing: border-box;top: 0;bottom: 0;left: 50%;z-index: -1;}#sk-container-id-1 div.sk-parallel-item {display: flex;flex-direction: column;z-index: 1;position: relative;background-color: white;}#sk-container-id-1 div.sk-parallel-item:first-child::after {align-self: flex-end;width: 50%;}#sk-container-id-1 div.sk-parallel-item:last-child::after {align-self: flex-start;width: 50%;}#sk-container-id-1 div.sk-parallel-item:only-child::after {width: 0;}#sk-container-id-1 div.sk-dashed-wrapped {border: 1px dashed gray;margin: 0 0.4em 0.5em 0.4em;box-sizing: border-box;padding-bottom: 0.4em;background-color: white;}#sk-container-id-1 div.sk-label label {font-family: monospace;font-weight: bold;display: inline-block;line-height: 1.2em;}#sk-container-id-1 div.sk-label-container {text-align: center;}#sk-container-id-1 div.sk-container {/* jupyter's `normalize.less` sets `[hidden] { display: none; }` but bootstrap.min.css set `[hidden] { display: none !important; }` so we also need the `!important` here to be able to override the default hidden behavior on the sphinx rendered scikit-learn.org. See: https://github.com/scikit-learn/scikit-learn/issues/21755 */display: inline-block !important;position: relative;}#sk-container-id-1 div.sk-text-repr-fallback {display: none;}</style><div id=\"sk-container-id-1\" class=\"sk-top-container\"><div class=\"sk-text-repr-fallback\"><pre>LogisticRegression(random_state=1)</pre><b>In a Jupyter environment, please rerun this cell to show the HTML representation or trust the notebook. <br />On GitHub, the HTML representation is unable to render, please try loading this page with nbviewer.org.</b></div><div class=\"sk-container\" hidden><div class=\"sk-item\"><div class=\"sk-estimator sk-toggleable\"><input class=\"sk-toggleable__control sk-hidden--visually\" id=\"sk-estimator-id-1\" type=\"checkbox\" checked><label for=\"sk-estimator-id-1\" class=\"sk-toggleable__label sk-toggleable__label-arrow\">LogisticRegression</label><div class=\"sk-toggleable__content\"><pre>LogisticRegression(random_state=1)</pre></div></div></div></div></div>"
     },
     "execution_count": 10,
     "metadata": {},
     "output_type": "execute_result"
    }
   ],
   "source": [
    "# Import the LogisticRegression module from SKLearn\n",
    "from sklearn.linear_model import LogisticRegression\n",
    "\n",
    "# Instantiate the Logistic Regression model\n",
    "# Assign a random_state parameter of 1 to the model\n",
    "logReg_model = LogisticRegression(random_state=1)\n",
    "\n",
    "# Fit the model using training data\n",
    "logReg_model.fit(X_train, y_train)"
   ]
  },
  {
   "attachments": {},
   "cell_type": "markdown",
   "metadata": {},
   "source": [
    "### Step 2: Save the predictions on the testing data labels by using the testing feature data (`X_test`) and the fitted model."
   ]
  },
  {
   "cell_type": "code",
   "execution_count": 11,
   "metadata": {
    "ExecuteTime": {
     "end_time": "2024-04-03T13:55:02.345718Z",
     "start_time": "2024-04-03T13:55:02.331448Z"
    }
   },
   "outputs": [
    {
     "data": {
      "text/plain": "       Prediction  Actual\n51217           0       0\n33521           0       0\n22744           0       0\n41262           0       0\n44519           0       0\n70538           0       0\n69065           0       0\n47924           0       0\n10514           0       0\n72993           0       0",
      "text/html": "<div>\n<style scoped>\n    .dataframe tbody tr th:only-of-type {\n        vertical-align: middle;\n    }\n\n    .dataframe tbody tr th {\n        vertical-align: top;\n    }\n\n    .dataframe thead th {\n        text-align: right;\n    }\n</style>\n<table border=\"1\" class=\"dataframe\">\n  <thead>\n    <tr style=\"text-align: right;\">\n      <th></th>\n      <th>Prediction</th>\n      <th>Actual</th>\n    </tr>\n  </thead>\n  <tbody>\n    <tr>\n      <th>51217</th>\n      <td>0</td>\n      <td>0</td>\n    </tr>\n    <tr>\n      <th>33521</th>\n      <td>0</td>\n      <td>0</td>\n    </tr>\n    <tr>\n      <th>22744</th>\n      <td>0</td>\n      <td>0</td>\n    </tr>\n    <tr>\n      <th>41262</th>\n      <td>0</td>\n      <td>0</td>\n    </tr>\n    <tr>\n      <th>44519</th>\n      <td>0</td>\n      <td>0</td>\n    </tr>\n    <tr>\n      <th>70538</th>\n      <td>0</td>\n      <td>0</td>\n    </tr>\n    <tr>\n      <th>69065</th>\n      <td>0</td>\n      <td>0</td>\n    </tr>\n    <tr>\n      <th>47924</th>\n      <td>0</td>\n      <td>0</td>\n    </tr>\n    <tr>\n      <th>10514</th>\n      <td>0</td>\n      <td>0</td>\n    </tr>\n    <tr>\n      <th>72993</th>\n      <td>0</td>\n      <td>0</td>\n    </tr>\n  </tbody>\n</table>\n</div>"
     },
     "execution_count": 11,
     "metadata": {},
     "output_type": "execute_result"
    }
   ],
   "source": [
    "# Make a prediction using the testing data\n",
    "prediction = logReg_model.predict(X_test)\n",
    "pred_df = pd.DataFrame({\"Prediction\": prediction, \"Actual\": y_test})\n",
    "#pred_df.head()\n",
    "pred_df.sample(10)"
   ]
  },
  {
   "attachments": {},
   "cell_type": "markdown",
   "metadata": {},
   "source": [
    "### Step 3: Evaluate the model’s performance by doing the following:\n",
    "\n",
    "* Generate a confusion matrix.\n",
    "\n",
    "* Print the classification report."
   ]
  },
  {
   "cell_type": "code",
   "execution_count": 12,
   "metadata": {
    "ExecuteTime": {
     "end_time": "2024-04-03T13:55:02.356225Z",
     "start_time": "2024-04-03T13:55:02.348889Z"
    }
   },
   "outputs": [
    {
     "data": {
      "text/plain": "array([[18663,   102],\n       [   56,   563]])"
     },
     "execution_count": 12,
     "metadata": {},
     "output_type": "execute_result"
    }
   ],
   "source": [
    "# Generate a confusion matrix for the model\n",
    "confusion_matrix(y_test, prediction)"
   ]
  },
  {
   "cell_type": "code",
   "execution_count": 13,
   "metadata": {
    "ExecuteTime": {
     "end_time": "2024-04-03T13:55:02.379806Z",
     "start_time": "2024-04-03T13:55:02.357614Z"
    }
   },
   "outputs": [
    {
     "name": "stdout",
     "output_type": "stream",
     "text": [
      "Classification Report:\n",
      "              precision    recall  f1-score   support\n",
      "\n",
      "           0       1.00      0.99      1.00     18765\n",
      "           1       0.85      0.91      0.88       619\n",
      "\n",
      "    accuracy                           0.99     19384\n",
      "   macro avg       0.92      0.95      0.94     19384\n",
      "weighted avg       0.99      0.99      0.99     19384\n"
     ]
    }
   ],
   "source": [
    "# Print the classification report for the model\n",
    "print(\"Classification Report:\")\n",
    "print(classification_report(y_test, prediction))"
   ]
  },
  {
   "attachments": {},
   "cell_type": "markdown",
   "metadata": {},
   "source": [
    "### Step 4: Answer the following question."
   ]
  },
  {
   "attachments": {},
   "cell_type": "markdown",
   "metadata": {},
   "source": [
    "**Question:** How well does the logistic regression model predict both the `0` (healthy loan) and `1` (high-risk loan) labels?\n",
    "\n",
    "**Answer:** TO BE ANSWERED...."
   ]
  },
  {
   "attachments": {},
   "cell_type": "markdown",
   "metadata": {},
   "source": [
    "---"
   ]
  }
 ],
 "metadata": {
  "kernelspec": {
   "name": "python3",
   "language": "python",
   "display_name": "Python 3 (ipykernel)"
  },
  "language_info": {
   "codemirror_mode": {
    "name": "ipython",
    "version": 3
   },
   "file_extension": ".py",
   "mimetype": "text/x-python",
   "name": "python",
   "nbconvert_exporter": "python",
   "pygments_lexer": "ipython3",
   "version": "3.7.7"
  },
  "vscode": {
   "interpreter": {
    "hash": "31f2aee4e71d21fbe5cf8b01ff0e069b9275f58929596ceb00d14d90e3e16cd6"
   }
  }
 },
 "nbformat": 4,
 "nbformat_minor": 4
}
